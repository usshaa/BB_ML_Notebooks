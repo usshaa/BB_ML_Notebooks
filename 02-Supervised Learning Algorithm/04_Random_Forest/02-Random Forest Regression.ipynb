{
 "cells": [
  {
   "cell_type": "markdown",
   "metadata": {},
   "source": [
    "### Random Forest Regression: Overview\n",
    "\n",
    "Random Forest Regression is an ensemble learning method that operates by constructing multiple decision trees during training and outputs the average of the predictions of the individual trees. This method enhances the predictive accuracy and controls overfitting compared to individual decision trees.\n",
    "\n",
    "1. **Decision Trees**: \n",
    "   - **Nodes and Splits**: In a decision tree, the dataset is split into subsets based on the feature that results in the most homogeneous subsets.\n",
    "   - **Splitting Criteria**: Common criteria include Mean Squared Error (MSE) for regression tasks.\n",
    "   - **Leaf Nodes**: The terminal nodes of a tree that contain the prediction value.\n",
    "\n",
    "2. **Ensemble Learning**:\n",
    "   - **Bootstrap Aggregating (Bagging)**: Random subsets of the original dataset are created with replacement (bootstrapping), and each subset is used to train a decision tree.\n",
    "   - **Random Feature Selection**: At each split in the tree, a random subset of features is considered for splitting, which helps in making the trees less correlated.\n",
    "\n",
    "3. **Aggregation**:\n",
    "   - **Averaging**: The final prediction of the random forest is obtained by averaging the predictions from all the individual trees.\n",
    "\n",
    "### Example Data: Government Public Domain\n",
    "\n",
    "Let's consider an example where we predict the expenditure of different government departments based on several factors.\n",
    "\n",
    "#### Example Data\n",
    "| Department | Budget (in million $) | Staff Count | Projects Count | Avg Project Duration (months) |\n",
    "|------------|-----------------------|-------------|----------------|------------------------------|\n",
    "| Health     | 500                   | 2000        | 10             | 24                           |\n",
    "| Education  | 300                   | 1500        | 7              | 18                           |\n",
    "| Defense    | 1500                  | 5000        | 15             | 36                           |\n",
    "| Transport  | 700                   | 3000        | 12             | 30                           |\n",
    "| Agriculture| 200                   | 1200        | 5              | 12                           |\n",
    "| ...        | ...                   | ...         | ...            | ...                          |\n",
    "\n",
    "### Random Forest Regression\n",
    "\n",
    "1. **Training Decision Trees**:\n",
    "   - **Bootstrap Sample**: Randomly select subsets of data with replacement.\n",
    "   - **Feature Subset**: Randomly select a subset of features for each split.\n",
    "   - **Splitting**: Use MSE to determine the best split.\n",
    "\n",
    "2. **Prediction**:\n",
    "   - **Individual Trees**: Each tree provides a prediction.\n",
    "   - **Aggregation**: Average the predictions of all the trees."
   ]
  },
  {
   "cell_type": "markdown",
   "metadata": {},
   "source": [
    "### Implementation"
   ]
  },
  {
   "cell_type": "code",
   "execution_count": 46,
   "metadata": {},
   "outputs": [],
   "source": [
    "import numpy as np\n",
    "import pandas as pd\n",
    "from sklearn.model_selection import train_test_split\n",
    "from sklearn.ensemble import RandomForestRegressor\n",
    "from sklearn.metrics import mean_squared_error, r2_score\n",
    "import matplotlib.pyplot as plt"
   ]
  },
  {
   "cell_type": "code",
   "execution_count": 47,
   "metadata": {},
   "outputs": [],
   "source": [
    "# Seed for reproducibility\n",
    "np.random.seed(42)\n",
    "\n",
    "# Generate logical synthetic dataset\n",
    "num_samples = 100\n",
    "staff_count = np.random.randint(500, 5000, num_samples)\n",
    "projects_count = np.random.randint(1, 20, num_samples)\n",
    "avg_project_duration = np.random.randint(6, 48, num_samples)\n",
    "\n",
    "# Logical relationship: Budget is influenced by staff_count, projects_count, and avg_project_duration\n",
    "budget = (staff_count * 0.5 + projects_count * 100 + avg_project_duration * 50) + np.random.normal(0, 100, num_samples)\n",
    "\n",
    "data = {\n",
    "    'Department': np.random.choice(['Health', 'Education', 'Defense', 'Transport', 'Agriculture'], num_samples),\n",
    "    'Staff Count': staff_count,\n",
    "    'Projects Count': projects_count,\n",
    "    'Avg Project Duration': avg_project_duration,\n",
    "    'Budget': budget\n",
    "}"
   ]
  },
  {
   "cell_type": "code",
   "execution_count": 48,
   "metadata": {},
   "outputs": [],
   "source": [
    "# Create a DataFrame\n",
    "df = pd.DataFrame(data)"
   ]
  },
  {
   "cell_type": "code",
   "execution_count": 49,
   "metadata": {},
   "outputs": [],
   "source": [
    "# Features and target variable\n",
    "X = df[['Staff Count', 'Projects Count', 'Avg Project Duration']]\n",
    "y = df['Budget']"
   ]
  },
  {
   "cell_type": "code",
   "execution_count": 50,
   "metadata": {},
   "outputs": [],
   "source": [
    "# Split the data\n",
    "X_train, X_test, y_train, y_test = train_test_split(X, y, test_size=0.2, random_state=42)"
   ]
  },
  {
   "cell_type": "code",
   "execution_count": 51,
   "metadata": {},
   "outputs": [
    {
     "data": {
      "text/plain": [
       "RandomForestRegressor(random_state=42)"
      ]
     },
     "execution_count": 51,
     "metadata": {},
     "output_type": "execute_result"
    }
   ],
   "source": [
    "# Create and train the model\n",
    "rf = RandomForestRegressor(n_estimators=100, random_state=42)\n",
    "rf.fit(X_train, y_train)"
   ]
  },
  {
   "cell_type": "code",
   "execution_count": 52,
   "metadata": {},
   "outputs": [],
   "source": [
    "# Predictions\n",
    "y_pred = rf.predict(X_test)"
   ]
  },
  {
   "cell_type": "code",
   "execution_count": 53,
   "metadata": {},
   "outputs": [
    {
     "name": "stdout",
     "output_type": "stream",
     "text": [
      "Mean Squared Error: 80713.93028161606\n",
      "R Squared: 0.9264748302263259\n"
     ]
    }
   ],
   "source": [
    "# Evaluate the model\n",
    "mse = mean_squared_error(y_test, y_pred)\n",
    "r2 = r2_score(y_test, y_pred)\n",
    "print(f'Mean Squared Error: {mse}')\n",
    "print(f'R Squared: {r2}')"
   ]
  },
  {
   "cell_type": "code",
   "execution_count": 54,
   "metadata": {},
   "outputs": [
    {
     "data": {
      "image/png": "[encoded data removed]",
      "text/plain": [
       "<Figure size 720x432 with 1 Axes>"
      ]
     },
     "metadata": {
      "needs_background": "light"
     },
     "output_type": "display_data"
    }
   ],
   "source": [
    "# Visualization\n",
    "plt.figure(figsize=(10, 6))\n",
    "plt.plot(range(len(y_test)), y_test, marker='o', linestyle='', label='Actual')\n",
    "plt.plot(range(len(y_pred)), y_pred, marker='x', linestyle='', label='Predicted')\n",
    "plt.title('Actual vs Predicted Budget')\n",
    "plt.xlabel('Department Index')\n",
    "plt.ylabel('Budget (in $)')\n",
    "plt.legend()\n",
    "plt.show()"
   ]
  },
  {
   "cell_type": "code",
   "execution_count": null,
   "metadata": {},
   "outputs": [],
   "source": []
  }
 ],
 "metadata": {
  "kernelspec": {
   "display_name": "Python 3",
   "language": "python",
   "name": "python3"
  },
  "language_info": {
   "codemirror_mode": {
    "name": "ipython",
    "version": 3
   },
   "file_extension": ".py",
   "mimetype": "text/x-python",
   "name": "python",
   "nbconvert_exporter": "python",
   "pygments_lexer": "ipython3",
   "version": "3.7.4"
  }
 },
 "nbformat": 4,
 "nbformat_minor": 4
}
