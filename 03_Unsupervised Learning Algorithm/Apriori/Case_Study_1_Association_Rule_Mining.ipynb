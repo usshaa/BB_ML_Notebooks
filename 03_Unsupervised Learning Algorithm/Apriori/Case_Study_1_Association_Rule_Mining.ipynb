{
 "cells": [
  {
   "cell_type": "markdown",
   "id": "4d7f93fb",
   "metadata": {},
   "source": [
    "\n",
    "# 🛒 Case Study 1: Market Basket Analysis (Groceries)\n",
    "\n",
    "In this case study, we will use **Association Rule Mining** to discover interesting patterns in a **grocery shopping dataset**.  \n",
    "We’ll answer questions like:  \n",
    "- What products are often bought together?  \n",
    "- Can we make recommendations based on associations?  \n",
    "\n",
    "We’ll use the **Apriori algorithm** and generate association rules with support, confidence, and lift.\n"
   ]
  },
  {
   "cell_type": "code",
   "execution_count": null,
   "id": "c6f2b11a",
   "metadata": {},
   "outputs": [],
   "source": [
    "\n",
    "# Import required libraries\n",
    "import pandas as pd\n",
    "from mlxtend.preprocessing import TransactionEncoder\n",
    "from mlxtend.frequent_patterns import apriori, association_rules\n"
   ]
  },
  {
   "cell_type": "markdown",
   "id": "796c0755",
   "metadata": {},
   "source": [
    "### Step 1: Create a sample transactional dataset"
   ]
  },
  {
   "cell_type": "code",
   "execution_count": null,
   "id": "8945f4ca",
   "metadata": {},
   "outputs": [],
   "source": [
    "\n",
    "# Simulated transactions (grocery store baskets)\n",
    "transactions = [\n",
    "    ['milk', 'bread', 'butter'],\n",
    "    ['bread', 'diapers', 'beer'],\n",
    "    ['milk', 'diapers', 'beer', 'cola'],\n",
    "    ['bread', 'butter', 'diapers'],\n",
    "    ['milk', 'bread', 'butter', 'beer'],\n",
    "    ['milk', 'bread', 'diapers']\n",
    "]\n",
    "\n",
    "transactions\n"
   ]
  },
  {
   "cell_type": "markdown",
   "id": "09002af8",
   "metadata": {},
   "source": [
    "### Step 2: Convert transactions into one-hot encoded format"
   ]
  },
  {
   "cell_type": "code",
   "execution_count": null,
   "id": "78dafc93",
   "metadata": {},
   "outputs": [],
   "source": [
    "\n",
    "te = TransactionEncoder()\n",
    "te_ary = te.fit(transactions).transform(transactions)\n",
    "df = pd.DataFrame(te_ary, columns=te.columns_)\n",
    "df.head()\n"
   ]
  },
  {
   "cell_type": "markdown",
   "id": "1318508b",
   "metadata": {},
   "source": [
    "### Step 3: Find frequent itemsets using Apriori"
   ]
  },
  {
   "cell_type": "code",
   "execution_count": null,
   "id": "40fd9a2d",
   "metadata": {},
   "outputs": [],
   "source": [
    "\n",
    "frequent_itemsets = apriori(df, min_support=0.4, use_colnames=True)\n",
    "frequent_itemsets.sort_values(by='support', ascending=False)\n"
   ]
  },
  {
   "cell_type": "markdown",
   "id": "67ca9bb7",
   "metadata": {},
   "source": [
    "### Step 4: Generate Association Rules"
   ]
  },
  {
   "cell_type": "code",
   "execution_count": null,
   "id": "58b0ffed",
   "metadata": {},
   "outputs": [],
   "source": [
    "\n",
    "rules = association_rules(frequent_itemsets, metric=\"confidence\", min_threshold=0.6)\n",
    "rules[['antecedents','consequents','support','confidence','lift']].sort_values(by='lift', ascending=False)\n"
   ]
  },
  {
   "cell_type": "markdown",
   "id": "5d860997",
   "metadata": {},
   "source": [
    "### Step 5: Filter interesting rules"
   ]
  },
  {
   "cell_type": "code",
   "execution_count": null,
   "id": "071c6325",
   "metadata": {},
   "outputs": [],
   "source": [
    "\n",
    "# Rules with lift > 1.2 and confidence > 0.7\n",
    "filtered_rules = rules[(rules['lift'] > 1.2) & (rules['confidence'] > 0.7)]\n",
    "filtered_rules[['antecedents','consequents','support','confidence','lift']]\n"
   ]
  },
  {
   "cell_type": "markdown",
   "id": "fcb7eec3",
   "metadata": {},
   "source": [
    "\n",
    "## ✅ Conclusion\n",
    "- We simulated a small **grocery store dataset** and applied the **Apriori algorithm**.  \n",
    "- We discovered rules such as *\"If a customer buys bread and butter, they are also likely to buy milk\"*.  \n",
    "- This method is widely used in **market basket analysis**, **retail recommendations**, and **cross-selling strategies**.\n"
   ]
  }
 ],
 "metadata": {},
 "nbformat": 4,
 "nbformat_minor": 5
}