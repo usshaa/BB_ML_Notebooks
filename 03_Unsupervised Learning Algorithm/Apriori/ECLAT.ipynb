{
 "cells": [
  {
   "cell_type": "markdown",
   "metadata": {},
   "source": ["# ECLAT Algorithm\nThis notebook demonstrates the **ECLAT algorithm** for frequent itemset mining.\nWe will cover:\n1. Preparing a vertical transaction dataset\n2. Generating frequent itemsets\n3. Understanding each step"]
  },
  {
   "cell_type": "code",
   "metadata": {},
   "source": ["import pandas as pd\nfrom itertools import combinations"]
  },
  {
   "cell_type": "markdown",
   "metadata": {},
   "source": ["## Step 1: Prepare Dataset\nCreate a transaction dataset."]
  },
  {
   "cell_type": "code",
   "metadata": {},
   "source": ["dataset = [['Milk', 'Bread', 'Butter'],['Bread', 'Butter'],['Milk', 'Bread'],['Milk', 'Butter'],['Bread', 'Butter'],['Milk', 'Bread', 'Butter']]\nvertical_db = {}\nfor tid, transaction in enumerate(dataset):\n    for item in transaction:\n        if item not in vertical_db:\n            vertical_db[item] = set()\n        vertical_db[item].add(tid)\nvertical_db"]
  },
  {
   "cell_type": "markdown",
   "metadata": {},
   "source": ["## Step 2: Define ECLAT Function"]
  },
  {
   "cell_type": "code",
   "metadata": {},
   "source": ["def eclat(prefix, items, min_support, frequent_itemsets):\n    while items:\n        item, tids = items.pop()\n        support = len(tids)/len(dataset)\n        if support >= min_support:\n            new_prefix = prefix + [item]\n            frequent_itemsets.append((new_prefix, support))\n            suffix = []\n            for other_item, other_tids in items:\n                intersect_tids = tids & other_tids\n                suffix.append((other_item, intersect_tids))\n            eclat(new_prefix, suffix, min_support, frequent_itemsets)"]
  },
  {
   "cell_type": "markdown",
   "metadata": {},
   "source": ["## Step 3: Run ECLAT"]
  },
  {
   "cell_type": "code",
   "metadata": {},
   "source": ["items = list(vertical_db.items())\nfrequent_itemsets = []\nmin_support = 0.5\neclat([], items, min_support, frequent_itemsets)\nfrequent_itemsets"]
  },
  {
   "cell_type": "markdown",
   "metadata": {},
   "source": ["## Step 4: Explanation\n- ECLAT uses a **vertical database format** (item -> TIDs).\n- Intersection of TID sets computes support efficiently.\n- Recursive function explores all combinations of items.\n- Only itemsets above `min_support` are returned."]
  }
 ],
 "metadata": {"kernelspec": {"name": "python3","display_name": "Python 3"},"language_info": {"name": "python"}},
 "nbformat": 4,
 "nbformat_minor": 5
}