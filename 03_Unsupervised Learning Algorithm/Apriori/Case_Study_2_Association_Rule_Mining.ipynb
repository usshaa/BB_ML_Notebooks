{
 "cells": [
  {
   "cell_type": "markdown",
   "id": "20243a73",
   "metadata": {},
   "source": [
    "\n",
    "# 🛍️ Case Study 2: Online Retail Dataset (Market Basket Analysis)\n",
    "\n",
    "In this case study, we will use the **Online Retail dataset** to demonstrate **Association Rule Mining**.  \n",
    "The dataset contains transactions from a UK-based online store, including invoices and product descriptions.  \n",
    "\n",
    "We’ll go through:  \n",
    "1. Loading and preprocessing data  \n",
    "2. Transforming into basket (one-hot encoded) format  \n",
    "3. Applying the Apriori algorithm  \n",
    "4. Extracting association rules  \n",
    "5. Interpreting results  \n"
   ]
  },
  {
   "cell_type": "code",
   "execution_count": null,
   "id": "7dcd5047",
   "metadata": {},
   "outputs": [],
   "source": [
    "\n",
    "import pandas as pd\n",
    "from mlxtend.frequent_patterns import apriori, association_rules\n"
   ]
  },
  {
   "cell_type": "markdown",
   "id": "1fd8e2ab",
   "metadata": {},
   "source": [
    "### Step 1: Load the Online Retail dataset"
   ]
  },
  {
   "cell_type": "code",
   "execution_count": null,
   "id": "e6489a92",
   "metadata": {},
   "outputs": [],
   "source": [
    "\n",
    "# Note: Replace the path below with the actual dataset location if you have it\n",
    "# The dataset is available from UCI Machine Learning Repository / Kaggle\n",
    "# file_path = \"OnlineRetail.xlsx\"\n",
    "\n",
    "# For demo purposes, we’ll simulate a small retail dataset in 'long format'\n",
    "data = {\n",
    "    'InvoiceNo': [1,1,1,2,2,3,3,3,3],\n",
    "    'Description': ['Milk','Bread','Butter','Bread','Diapers',\n",
    "                    'Milk','Diapers','Beer','Cola']\n",
    "}\n",
    "df = pd.DataFrame(data)\n",
    "df\n"
   ]
  },
  {
   "cell_type": "markdown",
   "id": "83beb8bd",
   "metadata": {},
   "source": [
    "### Step 2: Convert transactions to basket format"
   ]
  },
  {
   "cell_type": "code",
   "execution_count": null,
   "id": "c32a15af",
   "metadata": {},
   "outputs": [],
   "source": [
    "\n",
    "basket = df.groupby(['InvoiceNo', 'Description'])['Description'].count().unstack().fillna(0)\n",
    "basket = basket.applymap(lambda x: 1 if x > 0 else 0)\n",
    "basket.head()\n"
   ]
  },
  {
   "cell_type": "markdown",
   "id": "f39b5000",
   "metadata": {},
   "source": [
    "### Step 3: Find frequent itemsets using Apriori"
   ]
  },
  {
   "cell_type": "code",
   "execution_count": null,
   "id": "17445407",
   "metadata": {},
   "outputs": [],
   "source": [
    "\n",
    "frequent_itemsets = apriori(basket, min_support=0.3, use_colnames=True)\n",
    "frequent_itemsets.sort_values(by='support', ascending=False)\n"
   ]
  },
  {
   "cell_type": "markdown",
   "id": "8252cef1",
   "metadata": {},
   "source": [
    "### Step 4: Generate Association Rules"
   ]
  },
  {
   "cell_type": "code",
   "execution_count": null,
   "id": "00e2c39f",
   "metadata": {},
   "outputs": [],
   "source": [
    "\n",
    "rules = association_rules(frequent_itemsets, metric=\"lift\", min_threshold=1.0)\n",
    "rules[['antecedents','consequents','support','confidence','lift']].sort_values(by='lift', ascending=False)\n"
   ]
  },
  {
   "cell_type": "markdown",
   "id": "05edaaf9",
   "metadata": {},
   "source": [
    "### Step 5: Filter interesting rules"
   ]
  },
  {
   "cell_type": "code",
   "execution_count": null,
   "id": "8e0e5d32",
   "metadata": {},
   "outputs": [],
   "source": [
    "\n",
    "filtered_rules = rules[(rules['confidence'] > 0.6) & (rules['lift'] > 1.2)]\n",
    "filtered_rules[['antecedents','consequents','support','confidence','lift']]\n"
   ]
  },
  {
   "cell_type": "markdown",
   "id": "80504c96",
   "metadata": {},
   "source": [
    "\n",
    "## ✅ Conclusion\n",
    "- We transformed retail transactions into **basket format** (invoice × products).  \n",
    "- Using **Apriori**, we identified frequent itemsets and strong rules.  \n",
    "- Example: Customers buying **Milk + Bread** are likely to also buy **Butter**.  \n",
    "- This analysis helps in **product placement, bundling, and recommendation systems** in e-commerce.  \n"
   ]
  }
 ],
 "metadata": {},
 "nbformat": 4,
 "nbformat_minor": 5
}