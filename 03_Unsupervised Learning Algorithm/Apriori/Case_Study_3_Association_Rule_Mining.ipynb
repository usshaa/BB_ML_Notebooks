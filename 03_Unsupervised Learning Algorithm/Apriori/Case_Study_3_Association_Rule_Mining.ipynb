{
 "cells": [
  {
   "cell_type": "markdown",
   "id": "7fc5bbf9",
   "metadata": {},
   "source": [
    "\n",
    "# 🎬 Case Study 3: Movie Recommendation using Genres (Association Rule Mining)\n",
    "\n",
    "In this case study, we will use **movie genres** as items to perform **Association Rule Mining**.  \n",
    "Each movie can belong to multiple genres (Action, Comedy, Drama, etc.).  \n",
    "\n",
    "We’ll go through:  \n",
    "1. Creating a movie dataset with genres  \n",
    "2. Preparing data in basket format  \n",
    "3. Applying Apriori algorithm  \n",
    "4. Generating association rules  \n",
    "5. Using rules for **genre-based recommendations**  \n"
   ]
  },
  {
   "cell_type": "code",
   "execution_count": null,
   "id": "92f88b55",
   "metadata": {},
   "outputs": [],
   "source": [
    "\n",
    "import pandas as pd\n",
    "from mlxtend.frequent_patterns import apriori, association_rules\n"
   ]
  },
  {
   "cell_type": "markdown",
   "id": "4248bb60",
   "metadata": {},
   "source": [
    "### Step 1: Create a movie dataset with genres"
   ]
  },
  {
   "cell_type": "code",
   "execution_count": null,
   "id": "31acd2be",
   "metadata": {},
   "outputs": [],
   "source": [
    "\n",
    "# Simulated dataset: each row is a movie, columns are genres\n",
    "movies = {\n",
    "    'Movie': ['Movie1','Movie2','Movie3','Movie4','Movie5','Movie6'],\n",
    "    'Genres': [\n",
    "        ['Action','Adventure','Sci-Fi'],\n",
    "        ['Action','Thriller'],\n",
    "        ['Comedy','Romance'],\n",
    "        ['Action','Adventure','Fantasy'],\n",
    "        ['Drama','Romance'],\n",
    "        ['Action','Sci-Fi','Thriller']\n",
    "    ]\n",
    "}\n",
    "\n",
    "df = pd.DataFrame(movies)\n",
    "df\n"
   ]
  },
  {
   "cell_type": "markdown",
   "id": "77ea7eb8",
   "metadata": {},
   "source": [
    "### Step 2: Convert genres into one-hot encoded basket format"
   ]
  },
  {
   "cell_type": "code",
   "execution_count": null,
   "id": "df099aeb",
   "metadata": {},
   "outputs": [],
   "source": [
    "\n",
    "# Convert genres list to one-hot encoding\n",
    "from mlxtend.preprocessing import TransactionEncoder\n",
    "\n",
    "te = TransactionEncoder()\n",
    "te_ary = te.fit(df['Genres']).transform(df['Genres'])\n",
    "basket = pd.DataFrame(te_ary, columns=te.columns_)\n",
    "basket.head()\n"
   ]
  },
  {
   "cell_type": "markdown",
   "id": "7a259075",
   "metadata": {},
   "source": [
    "### Step 3: Find frequent genre combinations"
   ]
  },
  {
   "cell_type": "code",
   "execution_count": null,
   "id": "d302b688",
   "metadata": {},
   "outputs": [],
   "source": [
    "\n",
    "frequent_itemsets = apriori(basket, min_support=0.3, use_colnames=True)\n",
    "frequent_itemsets.sort_values(by='support', ascending=False)\n"
   ]
  },
  {
   "cell_type": "markdown",
   "id": "ce892aff",
   "metadata": {},
   "source": [
    "### Step 4: Generate Association Rules"
   ]
  },
  {
   "cell_type": "code",
   "execution_count": null,
   "id": "f8dbe5ec",
   "metadata": {},
   "outputs": [],
   "source": [
    "\n",
    "rules = association_rules(frequent_itemsets, metric=\"confidence\", min_threshold=0.6)\n",
    "rules[['antecedents','consequents','support','confidence','lift']].sort_values(by='lift', ascending=False)\n"
   ]
  },
  {
   "cell_type": "markdown",
   "id": "b6770cc0",
   "metadata": {},
   "source": [
    "### Step 5: Filter strong rules for recommendations"
   ]
  },
  {
   "cell_type": "code",
   "execution_count": null,
   "id": "a5f1c488",
   "metadata": {},
   "outputs": [],
   "source": [
    "\n",
    "recommendation_rules = rules[(rules['lift'] > 1.2) & (rules['confidence'] > 0.7)]\n",
    "recommendation_rules[['antecedents','consequents','support','confidence','lift']]\n"
   ]
  },
  {
   "cell_type": "markdown",
   "id": "ca47be6f",
   "metadata": {},
   "source": [
    "\n",
    "## ✅ Conclusion\n",
    "- We treated **movie genres as items** and discovered common genre combinations.  \n",
    "- Example: If a movie is **Action + Adventure**, it is also likely to be **Sci-Fi or Fantasy**.  \n",
    "- Such rules can be used in **content-based recommendation systems** to suggest similar movies to users.  \n"
   ]
  }
 ],
 "metadata": {},
 "nbformat": 4,
 "nbformat_minor": 5
}