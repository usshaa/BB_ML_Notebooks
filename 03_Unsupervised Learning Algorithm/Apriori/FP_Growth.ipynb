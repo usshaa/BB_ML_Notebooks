{
 "cells": [
  {
   "cell_type": "markdown",
   "metadata": {},
   "source": [
    "# FP-Growth Algorithm\n",
    "This notebook demonstrates the **FP-Growth algorithm** for association rule mining.\n",
    "We will cover:\n",
    "1. Preparing a transaction dataset\n",
    "2. Generating frequent itemsets\n",
    "3. Generating association rules\n",
    "4. Understanding each step"
   ]
  },
  {
   "cell_type": "code",
   "metadata": {},
   "source": ["!pip install mlxtend"]
  },
  {
   "cell_type": "code",
   "metadata": {},
   "source": ["import pandas as pd\nfrom mlxtend.frequent_patterns import fpgrowth, association_rules"]
  },
  {
   "cell_type": "markdown",
   "metadata": {},
   "source": ["## Step 1: Prepare Dataset\nWe'll create a sample retail transaction dataset."]
  },
  {
   "cell_type": "code",
   "metadata": {},
   "source": ["dataset = [['Milk', 'Bread', 'Butter'],['Bread', 'Butter'],['Milk', 'Bread'],['Milk', 'Butter'],['Bread', 'Butter'],['Milk', 'Bread', 'Butter']]\nall_items = sorted(set(item for transaction in dataset for item in transaction))\nencoded_vals = []\nfor transaction in dataset:\n    encoded_vals.append({item: (item in transaction) for item in all_items})\ndf = pd.DataFrame(encoded_vals)\ndf"]
  },
  {
   "cell_type": "markdown",
   "metadata": {},
   "source": ["## Step 2: Generate Frequent Itemsets using FP-Growth\nSet minimum support as 0.5 (50%)"]
  },
  {
   "cell_type": "code",
   "metadata": {},
   "source": ["frequent_itemsets = fpgrowth(df, min_support=0.5, use_colnames=True)\nfrequent_itemsets"]
  },
  {
   "cell_type": "markdown",
   "metadata": {},
   "source": ["## Step 3: Generate Association Rules\nWe'll use **confidence** as the metric."]
  },
  {
   "cell_type": "code",
   "metadata": {},
   "source": ["rules = association_rules(frequent_itemsets, metric='confidence', min_threshold=0.7)\nrules[['antecedents','consequents','support','confidence','lift']]"]
  },
  {
   "cell_type": "markdown",
   "metadata": {},
   "source": ["## Step 4: Explanation\n- **FP-Growth** builds an FP-tree internally to avoid generating candidate itemsets.\n- `frequent_itemsets` shows items or combinations that occur frequently.\n- `association_rules` generates rules like `Milk -> Bread` with support, confidence, and lift."]
  }
 ],
 "metadata": {"kernelspec": {"name": "python3","display_name": "Python 3"},"language_info": {"name": "python"}},
 "nbformat": 4,
 "nbformat_minor": 5
}