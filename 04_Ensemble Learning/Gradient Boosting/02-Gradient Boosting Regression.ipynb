{
 "cells": [
  {
   "cell_type": "markdown",
   "metadata": {},
   "source": [
    "Gradient Boosting is a powerful ensemble machine learning technique used for regression and classification tasks. It builds models sequentially, with each model attempting to correct the errors made by the previous ones. Here, we will delve into the details and calculations involved in Gradient Boosting.\n",
    "\n",
    "### Overview of Gradient Boosting\n",
    "\n",
    "1. **Initialization**: Start with an initial prediction, typically the mean of the target values in the case of regression.\n",
    "\n",
    "2. **Iteration**: For a fixed number of iterations (or until convergence):\n",
    "   - Compute the residuals (errors) between the actual target values and the current predictions.\n",
    "   - Fit a new model (typically a weak learner like a decision tree) to these residuals.\n",
    "   - Update the predictions by adding the predictions of the new model, scaled by a learning rate.\n",
    "\n",
    "3. **Final Model**: The final model is a weighted sum of all the weak learners.\n",
    "\n",
    "### Detailed Steps and Calculations\n",
    "\n",
    "#### Step 1: Initialization\n",
    "\n",
    "- Let \\(\\hat{y}_i^{(0)}\\) be the initial prediction for the \\(i\\)-th sample. For regression, this is often the mean of the target values \\(y_i\\):\n",
    "\n",
    "\\$ \\hat{y}_i^{(0)} = \\frac{1}{N} \\sum_{i=1}^{N} y_i \\$\n",
    "\n",
    "#### Step 2: Iterative Fitting\n",
    "\n",
    "For \\(m = 1\\) to \\(M\\) (number of boosting rounds):\n",
    "\n",
    "1. **Compute Residuals**: Calculate the residuals (errors) for each sample:\n",
    "\n",
    "\\$ r_i^{(m)} = y_i - \\hat{y}_i^{(m-1)} \\$\n",
    "\n",
    "2. **Fit a Weak Learner**: Fit a weak learner (e.g., decision tree) to the residuals. Let \\(h^{(m)}(x_i)\\) be the prediction of the \\(m\\)-th weak learner.\n",
    "\n",
    "3. **Update Predictions**: Update the predictions with the new weak learner scaled by a learning rate \\(\\eta\\):\n",
    "\n",
    "\\$ \\hat{y}_i^{(m)} = \\hat{y}_i^{(m-1)} + \\eta \\cdot h^{(m)}(x_i) \\$\n",
    "\n",
    "#### Step 3: Final Prediction\n",
    "\n",
    "After \\(M\\) iterations, the final prediction is:\n",
    "\n",
    "\\$ \\hat{y}_i = \\hat{y}_i^{(M)} = \\sum_{m=1}^{M} \\eta \\cdot h^{(m)}(x_i) \\$\n",
    "\n",
    "### Example Calculation\n",
    "\n",
    "Let's illustrate this with a simple example:\n",
    "\n",
    "Suppose we have a dataset with 4 samples:\n",
    "\n",
    "| \\(x_i\\) | \\(y_i\\) |\n",
    "|--------|---------|\n",
    "| 1      | 2       |\n",
    "| 2      | 3       |\n",
    "| 3      | 4       |\n",
    "| 4      | 5       |\n",
    "\n",
    "1. **Initialization**:\n",
    "   \\(\\hat{y}_i^{(0)} = \\frac{1}{4} (2 + 3 + 4 + 5) = 3.5\\)\n",
    "\n",
    "   Initial predictions: \\($3.5, 3.5, 3.5, 3.5$\\)\n",
    "\n",
    "2. **Iteration 1**:\n",
    "   - Residuals: \\($2 - 3.5, 3 - 3.5, 4 - 3.5, 5 - 3.5$ = $-1.5, -0.5, 0.5, 1.5$\\)\n",
    "   - Fit a weak learner (e.g., a simple decision tree) to the residuals. Suppose the tree learns a simple model \\(h^{(1)}(x) = x - 2.5\\).\n",
    "   - Update predictions with learning rate \\(\\eta = 0.1\\):\n",
    "\n",
    "   \\$\n",
    "   \\hat{y}_i^{(1)} = \\hat{y}_i^{(0)} + 0.1 \\cdot h^{(1)}(x_i)\n",
    "   \\$\n",
    "\n",
    "   \\$\n",
    "   \\hat{y}_i^{(1)} = 3.5 + 0.1 \\cdot (x_i - 2.5)\n",
    "   \\$\n",
    "\n",
    "   Updated predictions: \\($3.35, 3.45, 3.55, 3.65$\\)\n",
    "\n",
    "3. **Iteration 2**:\n",
    "   - Residuals: \\($2 - 3.35, 3 - 3.45, 4 - 3.55, 5 - 3.65$ = $-1.35, -0.45, 0.45, 1.35$\\)\n",
    "   - Fit another weak learner to the new residuals. Suppose this model learns \\(h^{(2)}(x) = x - 2.5\\) again.\n",
    "   - Update predictions:\n",
    "\n",
    "   \\$\n",
    "   \\hat{y}_i^{(2)} = \\hat{y}_i^{(1)} + 0.1 \\cdot h^{(2)}(x_i)\n",
    "   \\$\n",
    "\n",
    "   \\$\n",
    "   \\hat{y}_i^{(2)} = 3.35 + 0.1 \\cdot (x_i - 2.5)\n",
    "   \\$\n",
    "\n",
    "   Updated predictions: \\($3.215, 3.405, 3.595, 3.785$\\)\n",
    "\n",
    "Continue this process for more iterations.\n",
    "\n",
    "### Key Points\n",
    "\n",
    "- **Learning Rate (\\(\\eta\\))**: Controls the contribution of each weak learner. Smaller values lead to more robust models but require more iterations.\n",
    "- **Weak Learner**: Typically, decision trees with a limited depth are used to ensure they are weak learners.\n",
    "- **Regularization**: Techniques like shrinkage (using a learning rate), subsampling, and limiting the depth of trees help in preventing overfitting.\n",
    "\n",
    "Gradient Boosting can be used for both regression and classification problems. For classification, the procedure involves minimizing a suitable loss function (like log-loss for binary classification) instead of residuals directly.\n",
    "\n",
    "In practice, libraries like XGBoost, LightGBM, and CatBoost provide efficient implementations of gradient boosting with additional features like regularization and parallelization."
   ]
  },
  {
   "cell_type": "code",
   "execution_count": 3,
   "metadata": {},
   "outputs": [],
   "source": [
    "import numpy as np\n",
    "import matplotlib.pyplot as plt\n",
    "from sklearn.ensemble import GradientBoostingRegressor\n",
    "from sklearn.metrics import mean_squared_error, r2_score"
   ]
  },
  {
   "cell_type": "markdown",
   "metadata": {},
   "source": [
    "# Step 1: Generate Sample Data"
   ]
  },
  {
   "cell_type": "code",
   "execution_count": 9,
   "metadata": {},
   "outputs": [
    {
     "data": {
      "text/plain": [
       "array([[ 0.        ],\n",
       "       [ 0.2020202 ],\n",
       "       [ 0.4040404 ],\n",
       "       [ 0.60606061],\n",
       "       [ 0.80808081],\n",
       "       [ 1.01010101],\n",
       "       [ 1.21212121],\n",
       "       [ 1.41414141],\n",
       "       [ 1.61616162],\n",
       "       [ 1.81818182],\n",
       "       [ 2.02020202],\n",
       "       [ 2.22222222],\n",
       "       [ 2.42424242],\n",
       "       [ 2.62626263],\n",
       "       [ 2.82828283],\n",
       "       [ 3.03030303],\n",
       "       [ 3.23232323],\n",
       "       [ 3.43434343],\n",
       "       [ 3.63636364],\n",
       "       [ 3.83838384],\n",
       "       [ 4.04040404],\n",
       "       [ 4.24242424],\n",
       "       [ 4.44444444],\n",
       "       [ 4.64646465],\n",
       "       [ 4.84848485],\n",
       "       [ 5.05050505],\n",
       "       [ 5.25252525],\n",
       "       [ 5.45454545],\n",
       "       [ 5.65656566],\n",
       "       [ 5.85858586],\n",
       "       [ 6.06060606],\n",
       "       [ 6.26262626],\n",
       "       [ 6.46464646],\n",
       "       [ 6.66666667],\n",
       "       [ 6.86868687],\n",
       "       [ 7.07070707],\n",
       "       [ 7.27272727],\n",
       "       [ 7.47474747],\n",
       "       [ 7.67676768],\n",
       "       [ 7.87878788],\n",
       "       [ 8.08080808],\n",
       "       [ 8.28282828],\n",
       "       [ 8.48484848],\n",
       "       [ 8.68686869],\n",
       "       [ 8.88888889],\n",
       "       [ 9.09090909],\n",
       "       [ 9.29292929],\n",
       "       [ 9.49494949],\n",
       "       [ 9.6969697 ],\n",
       "       [ 9.8989899 ],\n",
       "       [10.1010101 ],\n",
       "       [10.3030303 ],\n",
       "       [10.50505051],\n",
       "       [10.70707071],\n",
       "       [10.90909091],\n",
       "       [11.11111111],\n",
       "       [11.31313131],\n",
       "       [11.51515152],\n",
       "       [11.71717172],\n",
       "       [11.91919192],\n",
       "       [12.12121212],\n",
       "       [12.32323232],\n",
       "       [12.52525253],\n",
       "       [12.72727273],\n",
       "       [12.92929293],\n",
       "       [13.13131313],\n",
       "       [13.33333333],\n",
       "       [13.53535354],\n",
       "       [13.73737374],\n",
       "       [13.93939394],\n",
       "       [14.14141414],\n",
       "       [14.34343434],\n",
       "       [14.54545455],\n",
       "       [14.74747475],\n",
       "       [14.94949495],\n",
       "       [15.15151515],\n",
       "       [15.35353535],\n",
       "       [15.55555556],\n",
       "       [15.75757576],\n",
       "       [15.95959596],\n",
       "       [16.16161616],\n",
       "       [16.36363636],\n",
       "       [16.56565657],\n",
       "       [16.76767677],\n",
       "       [16.96969697],\n",
       "       [17.17171717],\n",
       "       [17.37373737],\n",
       "       [17.57575758],\n",
       "       [17.77777778],\n",
       "       [17.97979798],\n",
       "       [18.18181818],\n",
       "       [18.38383838],\n",
       "       [18.58585859],\n",
       "       [18.78787879],\n",
       "       [18.98989899],\n",
       "       [19.19191919],\n",
       "       [19.39393939],\n",
       "       [19.5959596 ],\n",
       "       [19.7979798 ],\n",
       "       [20.        ]])"
      ]
     },
     "execution_count": 9,
     "metadata": {},
     "output_type": "execute_result"
    }
   ],
   "source": [
    "## Generate some random data for illustration\n",
    "np.random.seed(42)\n",
    "X = np.linspace(0, 10, 100).reshape(-1, 1)\n",
    "y = 2*X\n",
    "y"
   ]
  },
  {
   "cell_type": "markdown",
   "metadata": {},
   "source": [
    "# Step 2: Fit Gradient Boosting Regressor"
   ]
  },
  {
   "cell_type": "code",
   "execution_count": 10,
   "metadata": {},
   "outputs": [
    {
     "name": "stderr",
     "output_type": "stream",
     "text": [
      "/opt/conda/lib/python3.7/site-packages/sklearn/ensemble/_gb.py:494: DataConversionWarning: A column-vector y was passed when a 1d array was expected. Please change the shape of y to (n_samples, ), for example using ravel().\n",
      "  y = column_or_1d(y, warn=True)\n"
     ]
    },
    {
     "data": {
      "text/plain": [
       "GradientBoostingRegressor(random_state=42)"
      ]
     },
     "execution_count": 10,
     "metadata": {},
     "output_type": "execute_result"
    }
   ],
   "source": [
    "# Create and train the model\n",
    "gbr = GradientBoostingRegressor(n_estimators=100, learning_rate=0.1, max_depth=3, random_state=42)\n",
    "gbr.fit(X, y)"
   ]
  },
  {
   "cell_type": "code",
   "execution_count": 11,
   "metadata": {},
   "outputs": [],
   "source": [
    "# Make predictions\n",
    "y_pred = gbr.predict(X)"
   ]
  },
  {
   "cell_type": "markdown",
   "metadata": {},
   "source": [
    "# Step 3: Evaluate the Model"
   ]
  },
  {
   "cell_type": "code",
   "execution_count": 12,
   "metadata": {},
   "outputs": [
    {
     "name": "stdout",
     "output_type": "stream",
     "text": [
      "Mean Squared Error: 8.328297742303162e-05\n",
      "R Squared Error: 0.9999975509857134\n"
     ]
    }
   ],
   "source": [
    "mse = mean_squared_error(y, y_pred)\n",
    "print(f\"Mean Squared Error: {mse}\")\n",
    "r2 = r2_score(y, y_pred)\n",
    "print(f\"R Squared Error: {r2}\")"
   ]
  },
  {
   "cell_type": "markdown",
   "metadata": {},
   "source": [
    "# Step 4: Visualization"
   ]
  },
  {
   "cell_type": "code",
   "execution_count": 13,
   "metadata": {},
   "outputs": [
    {
     "data": {
      "image/png": "[encoded data removed]",
      "text/plain": [
       "<Figure size 720x432 with 1 Axes>"
      ]
     },
     "metadata": {
      "needs_background": "light"
     },
     "output_type": "display_data"
    }
   ],
   "source": [
    "# Plot the true values and predictions\n",
    "plt.figure(figsize=(10, 6))\n",
    "plt.scatter(X, y, label='True Values', color='b', s=30)\n",
    "plt.plot(X, y_pred, label='Predictions', color='r', linewidth=2)\n",
    "plt.title(\"Gradient Boosting Regressor\")\n",
    "plt.xlabel(\"X\")\n",
    "plt.ylabel(\"y\")\n",
    "plt.legend()\n",
    "plt.show()"
   ]
  },
  {
   "cell_type": "code",
   "execution_count": null,
   "metadata": {},
   "outputs": [],
   "source": []
  }
 ],
 "metadata": {
  "kernelspec": {
   "display_name": "Python 3",
   "language": "python",
   "name": "python3"
  },
  "language_info": {
   "codemirror_mode": {
    "name": "ipython",
    "version": 3
   },
   "file_extension": ".py",
   "mimetype": "text/x-python",
   "name": "python",
   "nbconvert_exporter": "python",
   "pygments_lexer": "ipython3",
   "version": "3.7.4"
  }
 },
 "nbformat": 4,
 "nbformat_minor": 4
}
