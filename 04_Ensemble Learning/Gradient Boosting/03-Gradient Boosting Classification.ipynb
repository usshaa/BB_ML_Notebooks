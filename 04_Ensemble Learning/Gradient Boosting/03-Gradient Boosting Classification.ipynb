{
 "cells": [
  {
   "cell_type": "markdown",
   "metadata": {},
   "source": [
    "### Gradient Boosting Classification\n",
    "Gradient Boosting Classification is a powerful machine learning technique for classification tasks. It builds an ensemble of decision trees sequentially, where each tree attempts to correct the errors of the previous ones. This method is effective for improving predictive accuracy by minimizing the loss function using gradient descent.\n",
    "\n",
    "### Key Concepts\n",
    "\n",
    "1. **Boosting**: Boosting is an ensemble technique that combines the predictions of multiple base estimators to improve robustness over a single estimator. Unlike bagging, where models are built independently, boosting builds models sequentially, with each new model attempting to correct errors made by the previous ones.\n",
    "\n",
    "2. **Gradient Descent**: Gradient Boosting uses gradient descent to minimize a loss function. The loss function measures the difference between the actual and predicted values. By adding trees that point in the direction of the negative gradient of the loss function, Gradient Boosting effectively reduces prediction errors.\n",
    "\n",
    "3. **Decision Trees**: The base learners in Gradient Boosting are typically decision trees. These trees are usually shallow (with limited depth) to avoid overfitting and to ensure that each tree focuses on correcting the residual errors.\n",
    "\n",
    "4. **Learning Rate**: This parameter controls the contribution of each tree to the final prediction. A lower learning rate means that more trees are needed to fit the model, but it can lead to better generalization."
   ]
  },
  {
   "cell_type": "code",
   "execution_count": 1,
   "metadata": {},
   "outputs": [],
   "source": [
    "# Importing necessary libraries\n",
    "import numpy as np\n",
    "import matplotlib.pyplot as plt\n",
    "from sklearn.datasets import make_classification\n",
    "from sklearn.model_selection import train_test_split\n",
    "from sklearn.ensemble import GradientBoostingClassifier\n",
    "from sklearn.metrics import accuracy_score, confusion_matrix, classification_report\n",
    "import seaborn as sns"
   ]
  },
  {
   "cell_type": "markdown",
   "metadata": {},
   "source": [
    "1. **Data Generation**:\n",
    "   - We use `make_classification` to generate synthetic data for a classification problem. The data consists of 1000 samples with 10 features and 2 classes."
   ]
  },
  {
   "cell_type": "code",
   "execution_count": 2,
   "metadata": {},
   "outputs": [],
   "source": [
    "# Generating synthetic data\n",
    "X, y = make_classification(n_samples=1000, n_features=10, n_classes=2, random_state=42)"
   ]
  },
  {
   "cell_type": "markdown",
   "metadata": {},
   "source": [
    "2. **Data Splitting**:\n",
    "   - The data is split into training and testing sets using `train_test_split`."
   ]
  },
  {
   "cell_type": "code",
   "execution_count": 3,
   "metadata": {},
   "outputs": [],
   "source": [
    "# Splitting the data into training and testing sets\n",
    "X_train, X_test, y_train, y_test = train_test_split(X, y, test_size=0.2, random_state=42)"
   ]
  },
  {
   "cell_type": "markdown",
   "metadata": {},
   "source": [
    "3. **Model Initialization**:\n",
    "   - A `GradientBoostingClassifier` is initialized with 100 estimators (trees), a learning rate of 0.1, and a maximum depth of 3 for each tree."
   ]
  },
  {
   "cell_type": "code",
   "execution_count": 4,
   "metadata": {},
   "outputs": [],
   "source": [
    "# Initializing Gradient Boosting Classifier\n",
    "gb_classifier = GradientBoostingClassifier(n_estimators=100, learning_rate=0.1, max_depth=3, random_state=42)"
   ]
  },
  {
   "cell_type": "markdown",
   "metadata": {},
   "source": [
    "4. **Model Training**:\n",
    "   - The model is trained on the training data using the `fit` method."
   ]
  },
  {
   "cell_type": "code",
   "execution_count": 5,
   "metadata": {},
   "outputs": [
    {
     "data": {
      "text/plain": [
       "GradientBoostingClassifier(random_state=42)"
      ]
     },
     "execution_count": 5,
     "metadata": {},
     "output_type": "execute_result"
    }
   ],
   "source": [
    "# Training the Gradient Boosting Classifier\n",
    "gb_classifier.fit(X_train, y_train)"
   ]
  },
  {
   "cell_type": "markdown",
   "metadata": {},
   "source": [
    "5. **Predictions and Evaluation**:\n",
    "   - Predictions are made on the test set using the `predict` method.\n",
    "   - Accuracy is calculated to evaluate the overall performance."
   ]
  },
  {
   "cell_type": "code",
   "execution_count": 6,
   "metadata": {},
   "outputs": [],
   "source": [
    "# Making predictions on the test set\n",
    "y_pred = gb_classifier.predict(X_test)"
   ]
  },
  {
   "cell_type": "markdown",
   "metadata": {},
   "source": [
    "6. **Confusion Matrix**:\n",
    "   - The confusion matrix is generated and visualized using `confusion_matrix` and seaborn's `heatmap`."
   ]
  },
  {
   "cell_type": "code",
   "execution_count": 7,
   "metadata": {},
   "outputs": [
    {
     "name": "stdout",
     "output_type": "stream",
     "text": [
      "Accuracy: 0.9\n"
     ]
    }
   ],
   "source": [
    "# Calculating accuracy\n",
    "accuracy = accuracy_score(y_test, y_pred)\n",
    "print(\"Accuracy:\", accuracy)"
   ]
  },
  {
   "cell_type": "markdown",
   "metadata": {},
   "source": [
    "7. **Classification Report**:\n",
    "   - A classification report is generated using `classification_report` to provide detailed performance metrics like precision, recall, and F1-score for each class."
   ]
  },
  {
   "cell_type": "code",
   "execution_count": 11,
   "metadata": {},
   "outputs": [
    {
     "name": "stdout",
     "output_type": "stream",
     "text": [
      "Confusion Matrix:\n",
      "[[84  5]\n",
      " [15 96]]\n",
      "              precision    recall  f1-score   support\n",
      "\n",
      "           0       0.85      0.94      0.89        89\n",
      "           1       0.95      0.86      0.91       111\n",
      "\n",
      "    accuracy                           0.90       200\n",
      "   macro avg       0.90      0.90      0.90       200\n",
      "weighted avg       0.91      0.90      0.90       200\n",
      "\n"
     ]
    }
   ],
   "source": [
    "# Generating confusion matrix\n",
    "conf_matrix = confusion_matrix(y_test, y_pred)\n",
    "print(\"Confusion Matrix:\")\n",
    "print(conf_matrix)\n",
    "print(classification_report(y_test,y_pred))"
   ]
  },
  {
   "cell_type": "markdown",
   "metadata": {},
   "source": [
    "### Visualization\n",
    "\n",
    "The confusion matrix and classification report provide detailed insights into the model's performance. The confusion matrix helps to understand how well the model is performing in terms of true positives, true negatives, false positives, and false negatives. The classification report gives a more comprehensive evaluation by providing precision, recall, and F1-score for each class.\n",
    "\n",
    "By following this example, you can implement Gradient Boosting Classification, evaluate its performance, and gain insights into how well it classifies the data. Adjusting parameters like `n_estimators`, `learning_rate`, and `max_depth` can help optimize the model further."
   ]
  },
  {
   "cell_type": "code",
   "execution_count": 10,
   "metadata": {},
   "outputs": [
    {
     "data": {
      "image/png": "[encoded data removed]",
      "text/plain": [
       "<Figure size 576x432 with 2 Axes>"
      ]
     },
     "metadata": {
      "needs_background": "light"
     },
     "output_type": "display_data"
    }
   ],
   "source": [
    "# Visualizing the confusion matrix\n",
    "plt.figure(figsize=(8, 6))\n",
    "sns.heatmap(conf_matrix, annot=True, fmt='d', cmap='Blues', \n",
    "            xticklabels=['Class 0', 'Class 1'], yticklabels=['Class 0', 'Class 1'])\n",
    "plt.xlabel('Predicted Label')\n",
    "plt.ylabel('True Label')\n",
    "plt.title('Confusion Matrix')\n",
    "plt.show()"
   ]
  },
  {
   "cell_type": "code",
   "execution_count": 11,
   "metadata": {},
   "outputs": [
    {
     "name": "stdout",
     "output_type": "stream",
     "text": [
      "Classification Report:\n",
      "              precision    recall  f1-score   support\n",
      "\n",
      "     Class 0       0.85      0.94      0.89        89\n",
      "     Class 1       0.95      0.86      0.91       111\n",
      "\n",
      "    accuracy                           0.90       200\n",
      "   macro avg       0.90      0.90      0.90       200\n",
      "weighted avg       0.91      0.90      0.90       200\n",
      "\n"
     ]
    }
   ],
   "source": [
    "# Generating classification report\n",
    "class_report = classification_report(y_test, y_pred, target_names=['Class 0', 'Class 1'])\n",
    "print(\"Classification Report:\")\n",
    "print(class_report)"
   ]
  }
 ],
 "metadata": {
  "kernelspec": {
   "display_name": "Python 3",
   "language": "python",
   "name": "python3"
  },
  "language_info": {
   "codemirror_mode": {
    "name": "ipython",
    "version": 3
   },
   "file_extension": ".py",
   "mimetype": "text/x-python",
   "name": "python",
   "nbconvert_exporter": "python",
   "pygments_lexer": "ipython3",
   "version": "3.7.4"
  }
 },
 "nbformat": 4,
 "nbformat_minor": 4
}
