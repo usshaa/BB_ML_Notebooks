{
 "cells": [
  {
   "cell_type": "markdown",
   "id": "176b7329",
   "metadata": {},
   "source": [
    "# Case Study 3: XGBoost Classifier (Wine Dataset)\n",
    "\n",
    "This notebook demonstrates **XGBoost** (`xgboost.XGBClassifier`) on the Wine dataset. We'll include installation note, training, evaluation, feature importance, and basic hyperparameter tuning."
   ]
  },
  {
   "cell_type": "code",
   "execution_count": null,
   "id": "0c14ff2b",
   "metadata": {},
   "outputs": [],
   "source": [
    "# Install xgboost if not available\n",
    "# Uncomment the following line if running in an environment without xgboost\n",
    "# !pip install xgboost"
   ]
  },
  {
   "cell_type": "code",
   "execution_count": null,
   "id": "de4308a4",
   "metadata": {},
   "outputs": [],
   "source": [
    "# Imports\n",
    "import numpy as np\n",
    "import pandas as pd\n",
    "from sklearn.datasets import load_wine\n",
    "from sklearn.model_selection import train_test_split, GridSearchCV\n",
    "from xgboost import XGBClassifier\n",
    "from sklearn.metrics import accuracy_score, classification_report, confusion_matrix\n",
    "import matplotlib.pyplot as plt\n",
    "import seaborn as sns\n",
    "sns.set()"
   ]
  },
  {
   "cell_type": "code",
   "execution_count": null,
   "id": "22ae819a",
   "metadata": {},
   "outputs": [],
   "source": [
    "# Load dataset\n",
    "wine = load_wine()\n",
    "X = wine.data\n",
    "y = wine.target\n",
    "feature_names = wine.feature_names\n",
    "pd.DataFrame(X, columns=feature_names).head()"
   ]
  },
  {
   "cell_type": "code",
   "execution_count": null,
   "id": "9d2c98b1",
   "metadata": {},
   "outputs": [],
   "source": [
    "# Train/test split\n",
    "X_train, X_test, y_train, y_test = train_test_split(X, y, test_size=0.25, random_state=42, stratify=y)\n",
    "print(X_train.shape, X_test.shape)"
   ]
  },
  {
   "cell_type": "code",
   "execution_count": null,
   "id": "5378b2fc",
   "metadata": {},
   "outputs": [],
   "source": [
    "# Fit XGBoost\n",
    "xgb = XGBClassifier(n_estimators=100, learning_rate=0.1, use_label_encoder=False, eval_metric='mlogloss', random_state=42)\n",
    "xgb.fit(X_train, y_train)\n",
    "\n",
    "# Evaluate\n",
    "y_pred = xgb.predict(X_test)\n",
    "print('Accuracy:', accuracy_score(y_test, y_pred))\n",
    "print('\\nClassification report:\\n', classification_report(y_test, y_pred))"
   ]
  },
  {
   "cell_type": "code",
   "execution_count": null,
   "id": "5d1562e2",
   "metadata": {},
   "outputs": [],
   "source": [
    "# Confusion matrix\n",
    "cm = confusion_matrix(y_test, y_pred)\n",
    "plt.figure(figsize=(6,5))\n",
    "sns.heatmap(cm, annot=True, fmt='d', cmap='Blues')\n",
    "plt.xlabel('Predicted')\n",
    "plt.ylabel('True')\n",
    "plt.title('Confusion Matrix - XGBoost')\n",
    "plt.show()"
   ]
  },
  {
   "cell_type": "code",
   "execution_count": null,
   "id": "d52ab314",
   "metadata": {},
   "outputs": [],
   "source": [
    "# Feature importances (built-in)\n",
    "importances = xgb.feature_importances_\n",
    "feat_imp = pd.Series(importances, index=feature_names).sort_values(ascending=True)\n",
    "plt.figure(figsize=(8,10))\n",
    "feat_imp.plot(kind='barh')\n",
    "plt.title('Feature Importances - XGBoost')\n",
    "plt.show()"
   ]
  },
  {
   "cell_type": "code",
   "execution_count": null,
   "id": "c3cb2d42",
   "metadata": {},
   "outputs": [],
   "source": [
    "# Basic hyperparameter tuning (small grid)\n",
    "param_grid = {\n",
    "    'n_estimators': [50, 100],\n",
    "    'learning_rate': [0.05, 0.1],\n",
    "    'max_depth': [3, 4]\n",
    "}\n",
    "gs = GridSearchCV(XGBClassifier(use_label_encoder=False, eval_metric='mlogloss', random_state=42), param_grid, cv=3, scoring='accuracy')\n",
    "gs.fit(X_train, y_train)\n",
    "print('Best params:', gs.best_params_)\n",
    "print('Best CV score:', gs.best_score_)\n",
    "\n",
    "best = gs.best_estimator_\n",
    "y_pred_best = best.predict(X_test)\n",
    "print('Test accuracy (best):', accuracy_score(y_test, y_pred_best))"
   ]
  },
  {
   "cell_type": "markdown",
   "id": "6faab2d9",
   "metadata": {},
   "source": [
    "## Takeaways\n",
    "\n",
    "- XGBoost is an optimized and regularized implementation of gradient boosting with excellent performance on tabular data.\n",
    "- It offers many tuning knobs (tree method, subsample, colsample_bytree) and supports early stopping and GPU acceleration.\n",
    "- Use `eval_metric` and monitor validation to avoid overfitting."
   ]
  }
 ],
 "metadata": {},
 "nbformat": 4,
 "nbformat_minor": 5
}