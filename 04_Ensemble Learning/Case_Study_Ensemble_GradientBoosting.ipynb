{
 "cells": [
  {
   "cell_type": "markdown",
   "id": "51996855",
   "metadata": {},
   "source": [
    "# Case Study 2: Gradient Boosting Classifier (Breast Cancer Dataset)\n",
    "\n",
    "This notebook demonstrates **Gradient Boosting (sklearn's GradientBoostingClassifier)** on the Breast Cancer dataset. We'll include training, evaluation, feature importance, and a small hyperparameter search."
   ]
  },
  {
   "cell_type": "code",
   "execution_count": null,
   "id": "73bd5bda",
   "metadata": {},
   "outputs": [],
   "source": [
    "# Imports\n",
    "import numpy as np\n",
    "import pandas as pd\n",
    "from sklearn.datasets import load_breast_cancer\n",
    "from sklearn.model_selection import train_test_split, GridSearchCV\n",
    "from sklearn.ensemble import GradientBoostingClassifier\n",
    "from sklearn.metrics import accuracy_score, classification_report, confusion_matrix\n",
    "import matplotlib.pyplot as plt\n",
    "import seaborn as sns\n",
    "sns.set()"
   ]
  },
  {
   "cell_type": "code",
   "execution_count": null,
   "id": "03099920",
   "metadata": {},
   "outputs": [],
   "source": [
    "# Load data\n",
    "data = load_breast_cancer()\n",
    "X = data.data\n",
    "y = data.target\n",
    "feature_names = data.feature_names\n",
    "pd.DataFrame(X, columns=feature_names).head()"
   ]
  },
  {
   "cell_type": "code",
   "execution_count": null,
   "id": "4291b82d",
   "metadata": {},
   "outputs": [],
   "source": [
    "# Train/test split\n",
    "X_train, X_test, y_train, y_test = train_test_split(X, y, test_size=0.25, random_state=42, stratify=y)\n",
    "print(X_train.shape, X_test.shape)"
   ]
  },
  {
   "cell_type": "code",
   "execution_count": null,
   "id": "d4a53bed",
   "metadata": {},
   "outputs": [],
   "source": [
    "# Fit Gradient Boosting\n",
    "gb = GradientBoostingClassifier(n_estimators=100, learning_rate=0.1, max_depth=3, random_state=42)\n",
    "gb.fit(X_train, y_train)\n",
    "\n",
    "# Evaluate\n",
    "y_pred = gb.predict(X_test)\n",
    "print('Accuracy:', accuracy_score(y_test, y_pred))\n",
    "print('\\nClassification report:\\n', classification_report(y_test, y_pred))"
   ]
  },
  {
   "cell_type": "code",
   "execution_count": null,
   "id": "db22f7ea",
   "metadata": {},
   "outputs": [],
   "source": [
    "# Confusion matrix\n",
    "cm = confusion_matrix(y_test, y_pred)\n",
    "plt.figure(figsize=(6,5))\n",
    "sns.heatmap(cm, annot=True, fmt='d', cmap='Blues')\n",
    "plt.xlabel('Predicted')\n",
    "plt.ylabel('True')\n",
    "plt.title('Confusion Matrix - Gradient Boosting')\n",
    "plt.show()"
   ]
  },
  {
   "cell_type": "code",
   "execution_count": null,
   "id": "921f225f",
   "metadata": {},
   "outputs": [],
   "source": [
    "# Feature importances\n",
    "importances = gb.feature_importances_\n",
    "feat_imp = pd.Series(importances, index=feature_names).sort_values(ascending=True)\n",
    "plt.figure(figsize=(8,10))\n",
    "feat_imp.plot(kind='barh')\n",
    "plt.title('Feature Importances - Gradient Boosting')\n",
    "plt.show()"
   ]
  },
  {
   "cell_type": "code",
   "execution_count": null,
   "id": "f3142626",
   "metadata": {},
   "outputs": [],
   "source": [
    "# Hyperparameter tuning (small grid)\n",
    "param_grid = {\n",
    "    'n_estimators': [50, 100],\n",
    "    'learning_rate': [0.01, 0.1],\n",
    "    'max_depth': [2, 3]\n",
    "}\n",
    "gs = GridSearchCV(GradientBoostingClassifier(random_state=42), param_grid, cv=3, scoring='accuracy')\n",
    "gs.fit(X_train, y_train)\n",
    "print('Best params:', gs.best_params_)\n",
    "print('Best CV score:', gs.best_score_)\n",
    "\n",
    "best = gs.best_estimator_\n",
    "y_pred_best = best.predict(X_test)\n",
    "print('Test accuracy (best):', accuracy_score(y_test, y_pred_best))"
   ]
  },
  {
   "cell_type": "markdown",
   "id": "3d637d8d",
   "metadata": {},
   "source": [
    "## Takeaways\n",
    "\n",
    "- Gradient Boosting builds trees sequentially to correct previous errors.\n",
    "- It's powerful for tabular data; regularize with `learning_rate`, `n_estimators`, and `max_depth`.\n",
    "- Consider early stopping for larger datasets."
   ]
  }
 ],
 "metadata": {},
 "nbformat": 4,
 "nbformat_minor": 5
}