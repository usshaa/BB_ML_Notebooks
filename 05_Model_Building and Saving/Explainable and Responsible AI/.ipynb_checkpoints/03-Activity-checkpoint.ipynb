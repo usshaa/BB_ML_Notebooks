{
 "cells": [
  {
   "cell_type": "markdown",
   "metadata": {},
   "source": [
    "### Activity: Fairness and Interpretability in Machine Learning Models\n",
    "#### Objective:\n",
    "To evaluate the fairness of a machine learning model and interpret its decisions using SHAP, LIME, and InterpretML techniques.\n",
    "\n",
    "**Tools and Libraries:**\n",
    "Python environment with libraries:\n",
    "- fairlearn for fairness assessment.\n",
    "- SHAP, LIME, and InterpretML for interpretability."
   ]
  }
 ],
 "metadata": {
  "kernelspec": {
   "display_name": "Python 3",
   "language": "python",
   "name": "python3"
  },
  "language_info": {
   "codemirror_mode": {
    "name": "ipython",
    "version": 3
   },
   "file_extension": ".py",
   "mimetype": "text/x-python",
   "name": "python",
   "nbconvert_exporter": "python",
   "pygments_lexer": "ipython3",
   "version": "3.7.4"
  }
 },
 "nbformat": 4,
 "nbformat_minor": 4
}
