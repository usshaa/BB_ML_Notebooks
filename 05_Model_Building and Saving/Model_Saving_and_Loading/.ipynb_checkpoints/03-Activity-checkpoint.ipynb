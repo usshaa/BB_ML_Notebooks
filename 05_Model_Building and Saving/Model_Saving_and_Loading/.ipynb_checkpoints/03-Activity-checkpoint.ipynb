{
 "cells": [
  {
   "cell_type": "markdown",
   "metadata": {},
   "source": [
    "### Activity: Save and load models as pickle (.pkl) files using joblib.\n",
    "**Problem Statement:** Implement model persistence by saving trained models to disk in .pkl format using joblib, enabling easy reuse and deployment of models for prediction tasks, thereby improving efficiency and scalability across diverse project domains."
   ]
  }
 ],
 "metadata": {
  "kernelspec": {
   "display_name": "Python 3",
   "language": "python",
   "name": "python3"
  },
  "language_info": {
   "codemirror_mode": {
    "name": "ipython",
    "version": 3
   },
   "file_extension": ".py",
   "mimetype": "text/x-python",
   "name": "python",
   "nbconvert_exporter": "python",
   "pygments_lexer": "ipython3",
   "version": "3.7.4"
  }
 },
 "nbformat": 4,
 "nbformat_minor": 4
}
