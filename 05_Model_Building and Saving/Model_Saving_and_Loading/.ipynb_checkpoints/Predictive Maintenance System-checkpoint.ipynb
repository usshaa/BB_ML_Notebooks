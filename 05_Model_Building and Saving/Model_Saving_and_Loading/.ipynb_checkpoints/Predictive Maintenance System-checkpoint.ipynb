{
 "cells": [
  {
   "cell_type": "markdown",
   "metadata": {},
   "source": [
    "### Project Overview: Predictive Maintenance System\n",
    "\n",
    "#### Objective:\n",
    "The objective of this project is to predict equipment failures using machine learning algorithms and provide a user interface for monitoring equipment health and scheduling proactive maintenance."
   ]
  },
  {
   "cell_type": "markdown",
   "metadata": {},
   "source": [
    "1. **Data Collection and Preprocessing:**\n",
    "   - Collect historical data from sensors or equipment logs, capturing operational parameters such as temperature, pressure, vibration, and other relevant metrics.\n",
    "   - Clean and preprocess the data to handle missing values, outliers, and inconsistencies.\n",
    "   - Extract relevant features such as operating conditions, usage patterns, and environmental factors."
   ]
  },
  {
   "cell_type": "code",
   "execution_count": 7,
   "metadata": {},
   "outputs": [],
   "source": [
    "import pandas as pd\n",
    "import numpy as np\n",
    "from sklearn.ensemble import RandomForestClassifier\n",
    "from sklearn.metrics import accuracy_score\n",
    "import ipywidgets as widgets\n",
    "from IPython.display import display,Audio\n",
    "\n",
    "# Generate synthetic dataset for demonstration\n",
    "np.random.seed(42)\n",
    "num_samples = 1000\n",
    "features = ['Temperature', 'Pressure', 'Vibration', 'Humidity', 'OperatingHours']\n",
    "data = {\n",
    "    'Temperature': np.random.normal(70, 10, num_samples),\n",
    "    'Pressure': np.random.normal(100, 15, num_samples),\n",
    "    'Vibration': np.random.normal(0.5, 0.1, num_samples),\n",
    "    'Humidity': np.random.normal(50, 5, num_samples),\n",
    "    'OperatingHours': np.random.randint(1, 24 * 30, num_samples)\n",
    "}\n",
    "labels = np.random.randint(0, 2, num_samples)  # Binary labels for equipment failure (0: no failure, 1: failure)"
   ]
  },
  {
   "cell_type": "code",
   "execution_count": 8,
   "metadata": {},
   "outputs": [],
   "source": [
    "df = pd.DataFrame(data)\n",
    "df['Failure'] = labels"
   ]
  },
  {
   "cell_type": "code",
   "execution_count": 9,
   "metadata": {},
   "outputs": [
    {
     "data": {
      "text/html": [
       "<div>\n",
       "<style scoped>\n",
       "    .dataframe tbody tr th:only-of-type {\n",
       "        vertical-align: middle;\n",
       "    }\n",
       "\n",
       "    .dataframe tbody tr th {\n",
       "        vertical-align: top;\n",
       "    }\n",
       "\n",
       "    .dataframe thead th {\n",
       "        text-align: right;\n",
       "    }\n",
       "</style>\n",
       "<table border=\"1\" class=\"dataframe\">\n",
       "  <thead>\n",
       "    <tr style=\"text-align: right;\">\n",
       "      <th></th>\n",
       "      <th>Temperature</th>\n",
       "      <th>Pressure</th>\n",
       "      <th>Vibration</th>\n",
       "      <th>Humidity</th>\n",
       "      <th>OperatingHours</th>\n",
       "      <th>Failure</th>\n",
       "    </tr>\n",
       "  </thead>\n",
       "  <tbody>\n",
       "    <tr>\n",
       "      <th>0</th>\n",
       "      <td>74.967142</td>\n",
       "      <td>120.990332</td>\n",
       "      <td>0.432482</td>\n",
       "      <td>40.460962</td>\n",
       "      <td>563</td>\n",
       "      <td>0</td>\n",
       "    </tr>\n",
       "    <tr>\n",
       "      <th>1</th>\n",
       "      <td>68.617357</td>\n",
       "      <td>113.869505</td>\n",
       "      <td>0.485548</td>\n",
       "      <td>45.698075</td>\n",
       "      <td>266</td>\n",
       "      <td>0</td>\n",
       "    </tr>\n",
       "    <tr>\n",
       "      <th>2</th>\n",
       "      <td>76.476885</td>\n",
       "      <td>100.894456</td>\n",
       "      <td>0.420758</td>\n",
       "      <td>47.931972</td>\n",
       "      <td>120</td>\n",
       "      <td>0</td>\n",
       "    </tr>\n",
       "    <tr>\n",
       "      <th>3</th>\n",
       "      <td>85.230299</td>\n",
       "      <td>90.295948</td>\n",
       "      <td>0.469204</td>\n",
       "      <td>59.438438</td>\n",
       "      <td>712</td>\n",
       "      <td>1</td>\n",
       "    </tr>\n",
       "    <tr>\n",
       "      <th>4</th>\n",
       "      <td>67.658466</td>\n",
       "      <td>110.473350</td>\n",
       "      <td>0.310639</td>\n",
       "      <td>52.782766</td>\n",
       "      <td>248</td>\n",
       "      <td>1</td>\n",
       "    </tr>\n",
       "  </tbody>\n",
       "</table>\n",
       "</div>"
      ],
      "text/plain": [
       "   Temperature    Pressure  Vibration   Humidity  OperatingHours  Failure\n",
       "0    74.967142  120.990332   0.432482  40.460962             563        0\n",
       "1    68.617357  113.869505   0.485548  45.698075             266        0\n",
       "2    76.476885  100.894456   0.420758  47.931972             120        0\n",
       "3    85.230299   90.295948   0.469204  59.438438             712        1\n",
       "4    67.658466  110.473350   0.310639  52.782766             248        1"
      ]
     },
     "execution_count": 9,
     "metadata": {},
     "output_type": "execute_result"
    }
   ],
   "source": [
    "df.head()"
   ]
  },
  {
   "cell_type": "code",
   "execution_count": 10,
   "metadata": {},
   "outputs": [
    {
     "data": {
      "text/html": [
       "<div>\n",
       "<style scoped>\n",
       "    .dataframe tbody tr th:only-of-type {\n",
       "        vertical-align: middle;\n",
       "    }\n",
       "\n",
       "    .dataframe tbody tr th {\n",
       "        vertical-align: top;\n",
       "    }\n",
       "\n",
       "    .dataframe thead th {\n",
       "        text-align: right;\n",
       "    }\n",
       "</style>\n",
       "<table border=\"1\" class=\"dataframe\">\n",
       "  <thead>\n",
       "    <tr style=\"text-align: right;\">\n",
       "      <th></th>\n",
       "      <th>Temperature</th>\n",
       "      <th>Pressure</th>\n",
       "      <th>Vibration</th>\n",
       "      <th>Humidity</th>\n",
       "      <th>OperatingHours</th>\n",
       "      <th>Failure</th>\n",
       "    </tr>\n",
       "  </thead>\n",
       "  <tbody>\n",
       "    <tr>\n",
       "      <th>Temperature</th>\n",
       "      <td>1.000000</td>\n",
       "      <td>-0.040400</td>\n",
       "      <td>0.022129</td>\n",
       "      <td>-0.013321</td>\n",
       "      <td>-0.015237</td>\n",
       "      <td>-0.033561</td>\n",
       "    </tr>\n",
       "    <tr>\n",
       "      <th>Pressure</th>\n",
       "      <td>-0.040400</td>\n",
       "      <td>1.000000</td>\n",
       "      <td>-0.011199</td>\n",
       "      <td>-0.054698</td>\n",
       "      <td>-0.009318</td>\n",
       "      <td>-0.032365</td>\n",
       "    </tr>\n",
       "    <tr>\n",
       "      <th>Vibration</th>\n",
       "      <td>0.022129</td>\n",
       "      <td>-0.011199</td>\n",
       "      <td>1.000000</td>\n",
       "      <td>0.021586</td>\n",
       "      <td>-0.061420</td>\n",
       "      <td>-0.017194</td>\n",
       "    </tr>\n",
       "    <tr>\n",
       "      <th>Humidity</th>\n",
       "      <td>-0.013321</td>\n",
       "      <td>-0.054698</td>\n",
       "      <td>0.021586</td>\n",
       "      <td>1.000000</td>\n",
       "      <td>-0.024840</td>\n",
       "      <td>0.028088</td>\n",
       "    </tr>\n",
       "    <tr>\n",
       "      <th>OperatingHours</th>\n",
       "      <td>-0.015237</td>\n",
       "      <td>-0.009318</td>\n",
       "      <td>-0.061420</td>\n",
       "      <td>-0.024840</td>\n",
       "      <td>1.000000</td>\n",
       "      <td>0.014025</td>\n",
       "    </tr>\n",
       "    <tr>\n",
       "      <th>Failure</th>\n",
       "      <td>-0.033561</td>\n",
       "      <td>-0.032365</td>\n",
       "      <td>-0.017194</td>\n",
       "      <td>0.028088</td>\n",
       "      <td>0.014025</td>\n",
       "      <td>1.000000</td>\n",
       "    </tr>\n",
       "  </tbody>\n",
       "</table>\n",
       "</div>"
      ],
      "text/plain": [
       "                Temperature  Pressure  Vibration  Humidity  OperatingHours  \\\n",
       "Temperature        1.000000 -0.040400   0.022129 -0.013321       -0.015237   \n",
       "Pressure          -0.040400  1.000000  -0.011199 -0.054698       -0.009318   \n",
       "Vibration          0.022129 -0.011199   1.000000  0.021586       -0.061420   \n",
       "Humidity          -0.013321 -0.054698   0.021586  1.000000       -0.024840   \n",
       "OperatingHours    -0.015237 -0.009318  -0.061420 -0.024840        1.000000   \n",
       "Failure           -0.033561 -0.032365  -0.017194  0.028088        0.014025   \n",
       "\n",
       "                 Failure  \n",
       "Temperature    -0.033561  \n",
       "Pressure       -0.032365  \n",
       "Vibration      -0.017194  \n",
       "Humidity        0.028088  \n",
       "OperatingHours  0.014025  \n",
       "Failure         1.000000  "
      ]
     },
     "execution_count": 10,
     "metadata": {},
     "output_type": "execute_result"
    }
   ],
   "source": [
    "df.corr()"
   ]
  },
  {
   "cell_type": "markdown",
   "metadata": {},
   "source": [
    "2. **Model Building:**\n",
    "   - Train a machine learning model to predict equipment failures or maintenance needs based on the historical data.\n",
    "   - Use algorithms such as **Random Forest** and **Gradient Boosting** depending on the complexity and nature of the data."
   ]
  },
  {
   "cell_type": "code",
   "execution_count": 11,
   "metadata": {},
   "outputs": [
    {
     "data": {
      "text/plain": [
       "RandomForestClassifier(random_state=42)"
      ]
     },
     "execution_count": 11,
     "metadata": {},
     "output_type": "execute_result"
    }
   ],
   "source": [
    "# Train a simple Random Forest classifier for demonstration\n",
    "X = df.drop('Failure', axis=1)\n",
    "y = df['Failure']\n",
    "\n",
    "model = RandomForestClassifier(random_state=42)\n",
    "model.fit(X, y)"
   ]
  },
  {
   "cell_type": "markdown",
   "metadata": {},
   "source": [
    "3. **UI Development:**\n",
    "   - Create a user interface using `ipywidgets` within a Jupyter Notebook or a standalone application using frameworks like `Tkinter` or `PyQt`.\n",
    "   - Design the UI to display real-time sensor data, equipment health status, and predictions from the machine learning model.\n",
    "   - Include interactive elements for setting thresholds, scheduling maintenance tasks, and visualizing historical data trends."
   ]
  },
  {
   "cell_type": "code",
   "execution_count": 12,
   "metadata": {},
   "outputs": [
    {
     "data": {
      "application/vnd.jupyter.widget-view+json": {
       "model_id": "d17f71bec3f644f6b89f3571171dae39",
       "version_major": 2,
       "version_minor": 0
      },
      "text/plain": [
       "VBox(children=(FloatSlider(value=0.0, description='Temperature:'), FloatSlider(value=0.0, description='Pressur…"
      ]
     },
     "metadata": {},
     "output_type": "display_data"
    }
   ],
   "source": [
    "# UI components\n",
    "temperature_slider = widgets.FloatSlider(min=0, max=100, description='Temperature:')\n",
    "pressure_slider = widgets.FloatSlider(min=0, max=200, description='Pressure:')\n",
    "vibration_slider = widgets.FloatSlider(min=0, max=1, description='Vibration:')\n",
    "humidity_slider = widgets.FloatSlider(min=0, max=100, description='Humidity:')\n",
    "operating_hours_slider = widgets.IntSlider(min=1, max=24*30, description='Operating Hours:')\n",
    "predict_button = widgets.Button(description='Predict Failure')\n",
    "output_label = widgets.Label()\n",
    "\n",
    "# Function to predict equipment failure and update output\n",
    "def predict_failure(sender):\n",
    "    input_data = {\n",
    "        'Temperature': [temperature_slider.value],\n",
    "        'Pressure': [pressure_slider.value],\n",
    "        'Vibration': [vibration_slider.value],\n",
    "        'Humidity': [humidity_slider.value],\n",
    "        'OperatingHours': [operating_hours_slider.value]\n",
    "    }\n",
    "    input_df = pd.DataFrame(input_data)\n",
    "    failure_prediction = model.predict(input_df)[0]\n",
    "    \n",
    "    if failure_prediction == 1:\n",
    "        output_label.value = 'Equipment Failure Predicted: Yes'\n",
    "        # Play a beep sound\n",
    "        display(Audio(filename='beep.wav', autoplay=True))\n",
    "    else:\n",
    "        output_label.value = 'Equipment Failure Predicted: No'\n",
    "\n",
    "predict_button.on_click(predict_failure)\n",
    "\n",
    "# Display UI\n",
    "ui = widgets.VBox([temperature_slider, pressure_slider, vibration_slider, humidity_slider, operating_hours_slider,\n",
    "                   predict_button, output_label])\n",
    "display(ui)"
   ]
  },
  {
   "cell_type": "markdown",
   "metadata": {},
   "source": [
    "### Conclusion:\n",
    "This project demonstrates the implementation of a Predictive Maintenance System with a user interface in Python. By integrating machine learning models with interactive UI elements, businesses can effectively monitor equipment health, predict failures in advance, and optimize maintenance schedules to improve operational efficiency and reduce costs. This use case showcases the practical application of machine learning and UI development in industrial IoT environments."
   ]
  },
  {
   "cell_type": "code",
   "execution_count": null,
   "metadata": {},
   "outputs": [],
   "source": []
  }
 ],
 "metadata": {
  "kernelspec": {
   "display_name": "Python 3",
   "language": "python",
   "name": "python3"
  },
  "language_info": {
   "codemirror_mode": {
    "name": "ipython",
    "version": 3
   },
   "file_extension": ".py",
   "mimetype": "text/x-python",
   "name": "python",
   "nbconvert_exporter": "python",
   "pygments_lexer": "ipython3",
   "version": "3.7.4"
  }
 },
 "nbformat": 4,
 "nbformat_minor": 4
}
