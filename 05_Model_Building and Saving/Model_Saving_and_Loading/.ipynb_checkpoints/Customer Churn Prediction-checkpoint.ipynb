{
 "cells": [
  {
   "cell_type": "markdown",
   "metadata": {},
   "source": [
    "### Project Overview: Customer Churn Prediction\n",
    "\n",
    "#### Objective:\n",
    "The main goal of this project is to predict customer churn for a telecommunications company. Customer churn refers to the phenomenon where customers stop doing business with a company, in this case, canceling their services with the telecom provider. Predicting churn is crucial for businesses to take proactive measures to retain customers and reduce revenue loss."
   ]
  },
  {
   "cell_type": "markdown",
   "metadata": {},
   "source": [
    "1. **Dataset Creation:** \n",
    "   - We generated a synthetic dataset that simulates customer data for a telecommunications company. This dataset includes various features such as customer demographics (age, gender), services subscribed (internet service type, contract duration), and usage patterns (tenure, monthly charges)."
   ]
  },
  {
   "cell_type": "code",
   "execution_count": 1,
   "metadata": {},
   "outputs": [
    {
     "name": "stdout",
     "output_type": "stream",
     "text": [
      "Requirement already satisfied: faker in /opt/conda/lib/python3.7/site-packages (18.13.0)\n",
      "Requirement already satisfied: python-dateutil>=2.4 in /opt/conda/lib/python3.7/site-packages (from faker) (2.8.1)\n",
      "Requirement already satisfied: typing-extensions>=3.10.0.1 in /opt/conda/lib/python3.7/site-packages (from faker) (4.7.1)\n",
      "Requirement already satisfied: six>=1.5 in /opt/conda/lib/python3.7/site-packages (from python-dateutil>=2.4->faker) (1.14.0)\n",
      "\n",
      "\u001b[1m[\u001b[0m\u001b[34;49mnotice\u001b[0m\u001b[1;39;49m]\u001b[0m\u001b[39;49m A new release of pip is available: \u001b[0m\u001b[31;49m23.2.1\u001b[0m\u001b[39;49m -> \u001b[0m\u001b[32;49m24.0\u001b[0m\n",
      "\u001b[1m[\u001b[0m\u001b[34;49mnotice\u001b[0m\u001b[1;39;49m]\u001b[0m\u001b[39;49m To update, run: \u001b[0m\u001b[32;49mpip install --upgrade pip\u001b[0m\n"
     ]
    }
   ],
   "source": [
    "!pip install faker"
   ]
  },
  {
   "cell_type": "code",
   "execution_count": 12,
   "metadata": {},
   "outputs": [
    {
     "data": {
      "text/html": [
       "<div>\n",
       "<style scoped>\n",
       "    .dataframe tbody tr th:only-of-type {\n",
       "        vertical-align: middle;\n",
       "    }\n",
       "\n",
       "    .dataframe tbody tr th {\n",
       "        vertical-align: top;\n",
       "    }\n",
       "\n",
       "    .dataframe thead th {\n",
       "        text-align: right;\n",
       "    }\n",
       "</style>\n",
       "<table border=\"1\" class=\"dataframe\">\n",
       "  <thead>\n",
       "    <tr style=\"text-align: right;\">\n",
       "      <th></th>\n",
       "      <th>Age</th>\n",
       "      <th>Gender</th>\n",
       "      <th>InternetService</th>\n",
       "      <th>Contract</th>\n",
       "      <th>Tenure</th>\n",
       "      <th>MonthlyCharges</th>\n",
       "      <th>TotalCharges</th>\n",
       "      <th>Churn</th>\n",
       "    </tr>\n",
       "  </thead>\n",
       "  <tbody>\n",
       "    <tr>\n",
       "      <th>0</th>\n",
       "      <td>36</td>\n",
       "      <td>Male</td>\n",
       "      <td>Fiber optic</td>\n",
       "      <td>Two year</td>\n",
       "      <td>69</td>\n",
       "      <td>95.413218</td>\n",
       "      <td>6583.512073</td>\n",
       "      <td>0</td>\n",
       "    </tr>\n",
       "    <tr>\n",
       "      <th>1</th>\n",
       "      <td>48</td>\n",
       "      <td>Female</td>\n",
       "      <td>DSL</td>\n",
       "      <td>Two year</td>\n",
       "      <td>67</td>\n",
       "      <td>36.942517</td>\n",
       "      <td>2475.148639</td>\n",
       "      <td>0</td>\n",
       "    </tr>\n",
       "    <tr>\n",
       "      <th>2</th>\n",
       "      <td>75</td>\n",
       "      <td>Male</td>\n",
       "      <td>DSL</td>\n",
       "      <td>Month-to-month</td>\n",
       "      <td>9</td>\n",
       "      <td>36.247359</td>\n",
       "      <td>326.226229</td>\n",
       "      <td>1</td>\n",
       "    </tr>\n",
       "    <tr>\n",
       "      <th>3</th>\n",
       "      <td>18</td>\n",
       "      <td>Female</td>\n",
       "      <td>DSL</td>\n",
       "      <td>One year</td>\n",
       "      <td>17</td>\n",
       "      <td>31.539804</td>\n",
       "      <td>536.176662</td>\n",
       "      <td>0</td>\n",
       "    </tr>\n",
       "    <tr>\n",
       "      <th>4</th>\n",
       "      <td>70</td>\n",
       "      <td>Female</td>\n",
       "      <td>None</td>\n",
       "      <td>Month-to-month</td>\n",
       "      <td>7</td>\n",
       "      <td>12.915698</td>\n",
       "      <td>90.409883</td>\n",
       "      <td>1</td>\n",
       "    </tr>\n",
       "  </tbody>\n",
       "</table>\n",
       "</div>"
      ],
      "text/plain": [
       "   Age  Gender InternetService        Contract  Tenure  MonthlyCharges  \\\n",
       "0   36    Male     Fiber optic        Two year      69       95.413218   \n",
       "1   48  Female             DSL        Two year      67       36.942517   \n",
       "2   75    Male             DSL  Month-to-month       9       36.247359   \n",
       "3   18  Female             DSL        One year      17       31.539804   \n",
       "4   70  Female            None  Month-to-month       7       12.915698   \n",
       "\n",
       "   TotalCharges  Churn  \n",
       "0   6583.512073      0  \n",
       "1   2475.148639      0  \n",
       "2    326.226229      1  \n",
       "3    536.176662      0  \n",
       "4     90.409883      1  "
      ]
     },
     "execution_count": 12,
     "metadata": {},
     "output_type": "execute_result"
    }
   ],
   "source": [
    "from faker import Faker\n",
    "import random\n",
    "import pandas as pd\n",
    "\n",
    "fake = Faker()\n",
    "\n",
    "# Generate synthetic dataset with logical dependencies\n",
    "def generate_logical_dataset(num_samples=1000):\n",
    "    data = []\n",
    "    for _ in range(num_samples):\n",
    "        age = random.randint(18, 85)\n",
    "        gender = random.choice(['Male', 'Female'])\n",
    "        \n",
    "        # Internet service influences monthly charges and possibly churn\n",
    "        internet_service = random.choices(\n",
    "            ['DSL', 'Fiber optic', 'None'], \n",
    "            weights=[0.3, 0.5, 0.2], k=1\n",
    "        )[0]\n",
    "        \n",
    "        # Contract type influences churn likelihood\n",
    "        contract = random.choices(\n",
    "            ['Month-to-month', 'One year', 'Two year'], \n",
    "            weights=[0.5, 0.3, 0.2], k=1\n",
    "        )[0]\n",
    "        \n",
    "        # Tenure influences contract type\n",
    "        if contract == 'Month-to-month':\n",
    "            tenure = random.randint(1, 12)\n",
    "        elif contract == 'One year':\n",
    "            tenure = random.randint(12, 24)\n",
    "        else:\n",
    "            tenure = random.randint(24, 72)\n",
    "        \n",
    "        # Monthly charges depend on the type of internet service\n",
    "        if internet_service == 'DSL':\n",
    "            monthly_charges = random.uniform(25, 75)\n",
    "        elif internet_service == 'Fiber optic':\n",
    "            monthly_charges = random.uniform(50, 100)\n",
    "        else:\n",
    "            monthly_charges = random.uniform(0, 25)\n",
    "        \n",
    "        # Total charges are calculated based on tenure and monthly charges\n",
    "        total_charges = monthly_charges * tenure\n",
    "        \n",
    "        # Churn probability is influenced by tenure, contract type, and monthly charges\n",
    "        if contract == 'Month-to-month':\n",
    "            churn_prob = 0.5\n",
    "        elif contract == 'One year':\n",
    "            churn_prob = 0.2\n",
    "        else:\n",
    "            churn_prob = 0.1\n",
    "        \n",
    "        # Increase churn probability for very high monthly charges or low tenure\n",
    "        if monthly_charges > 80:\n",
    "            churn_prob += 0.1\n",
    "        if tenure < 12:\n",
    "            churn_prob += 0.1\n",
    "        \n",
    "        churn = 1 if random.random() < churn_prob else 0\n",
    "        \n",
    "        data.append([age, gender, internet_service, contract, tenure, monthly_charges, total_charges, churn])\n",
    "    \n",
    "    columns = ['Age', 'Gender', 'InternetService', 'Contract', 'Tenure', 'MonthlyCharges', 'TotalCharges', 'Churn']\n",
    "    return pd.DataFrame(data, columns=columns)\n",
    "\n",
    "# Generate dataset with 1000 samples\n",
    "dataset = generate_logical_dataset(num_samples=1000)\n",
    "\n",
    "# Display the first few rows of the dataset\n",
    "dataset.head()\n"
   ]
  },
  {
   "cell_type": "markdown",
   "metadata": {},
   "source": [
    "2. **Data Preprocessing:**\n",
    "   - We preprocessed the dataset to prepare it for machine learning modeling. This included converting categorical variables (e.g., gender, internet service type, contract duration) into numerical representations using one-hot encoding. "
   ]
  },
  {
   "cell_type": "code",
   "execution_count": 13,
   "metadata": {},
   "outputs": [],
   "source": [
    "# Convert categorical variables to numerical using one-hot encoding\n",
    "dataset_encoded = pd.get_dummies(dataset, columns=['Gender', 'InternetService', 'Contract'], drop_first=True)\n",
    "\n",
    "# Separate features and target variable\n",
    "X = dataset_encoded.drop('Churn', axis=1)\n",
    "y = dataset_encoded['Churn']"
   ]
  },
  {
   "cell_type": "markdown",
   "metadata": {},
   "source": [
    "3. **Model Building:**\n",
    "   - We trained a machine learning model specifically a `RandomForestClassifier` to predict whether a customer is likely to churn based on the provided features. \n",
    "   - During training, the model learns patterns in the data that indicate whether customers are likely to churn or not."
   ]
  },
  {
   "cell_type": "code",
   "execution_count": 14,
   "metadata": {},
   "outputs": [],
   "source": [
    "from sklearn.ensemble import RandomForestClassifier\n",
    "from sklearn.model_selection import train_test_split\n",
    "from sklearn.metrics import accuracy_score, classification_report\n",
    "\n",
    "# Split data into training and testing sets\n",
    "X_train, X_test, y_train, y_test = train_test_split(X, y, test_size=0.2, random_state=42)\n",
    "\n",
    "# Train the model\n",
    "model = RandomForestClassifier(random_state=42)\n",
    "model.fit(X_train, y_train)\n",
    "\n",
    "# Make predictions on the test set\n",
    "y_pred = model.predict(X_test)"
   ]
  },
  {
   "cell_type": "markdown",
   "metadata": {},
   "source": [
    "4. **Model Evaluation:**\n",
    "   - We evaluated the trained model's performance using metrics such as accuracy score and classification report.\n",
    "   - The accuracy score tells us how well the model predicts churn compared to the actual outcomes, while the classification report provides insights into precision, recall, and F1-score for churn prediction."
   ]
  },
  {
   "cell_type": "code",
   "execution_count": 15,
   "metadata": {},
   "outputs": [
    {
     "name": "stdout",
     "output_type": "stream",
     "text": [
      "Accuracy: 0.67\n",
      "              precision    recall  f1-score   support\n",
      "\n",
      "           0       0.70      0.71      0.71       112\n",
      "           1       0.63      0.61      0.62        88\n",
      "\n",
      "    accuracy                           0.67       200\n",
      "   macro avg       0.66      0.66      0.66       200\n",
      "weighted avg       0.67      0.67      0.67       200\n",
      "\n"
     ]
    }
   ],
   "source": [
    "# Evaluate the model\n",
    "accuracy = accuracy_score(y_test, y_pred)\n",
    "print(f'Accuracy: {accuracy:.2f}')\n",
    "\n",
    "# Display classification report\n",
    "print(classification_report(y_test, y_pred))"
   ]
  },
  {
   "cell_type": "markdown",
   "metadata": {},
   "source": [
    "5. **User Interface (UI) Development:**\n",
    "   - We created an interactive UI using `ipywidgets` within a Jupyter Notebook.\n",
    "   - The UI allows users to input customer information (e.g., age, gender, contract details) through sliders and dropdowns.\n",
    "   - Upon clicking the \"Predict\" button, the model uses the provided input to predict whether the customer is likely to churn and displays the prediction along with the probability."
   ]
  },
  {
   "cell_type": "code",
   "execution_count": 16,
   "metadata": {},
   "outputs": [
    {
     "data": {
      "application/vnd.jupyter.widget-view+json": {
       "model_id": "de2b57779783410496a065ddbb02cbc6",
       "version_major": 2,
       "version_minor": 0
      },
      "text/plain": [
       "VBox(children=(IntSlider(value=18, description='Age:', max=85, min=18), Dropdown(description='Gender:', option…"
      ]
     },
     "metadata": {},
     "output_type": "display_data"
    }
   ],
   "source": [
    "import ipywidgets as widgets\n",
    "from IPython.display import display\n",
    "\n",
    "# UI components\n",
    "age_input = widgets.IntSlider(min=18, max=85, description='Age:')\n",
    "gender_dropdown = widgets.Dropdown(options=['Male', 'Female'], description='Gender:')\n",
    "internet_service_dropdown = widgets.Dropdown(options=['DSL', 'Fiber optic', 'None'], description='Internet Service:')\n",
    "contract_dropdown = widgets.Dropdown(options=['Month-to-month', 'One year', 'Two year'], description='Contract:')\n",
    "tenure_input = widgets.IntSlider(min=1, max=72, description='Tenure:')\n",
    "monthly_charges_input = widgets.FloatSlider(min=20.0, max=150.0, step=1.0, description='Monthly Charges:')\n",
    "predict_button = widgets.Button(description='Predict')\n",
    "\n",
    "output_label = widgets.Label()\n",
    "\n",
    "# Function to predict churn and update output\n",
    "def predict_churn(sender):\n",
    "    # Assuming input data structure based on your model's expected features\n",
    "    input_data = {\n",
    "    'Age': [age_input.value],\n",
    "    'Gender_Male': [1 if gender_dropdown.value == 'Male' else 0],  # Adjust to match model's training\n",
    "    'InternetService_Fiber optic': [1 if internet_service_dropdown.value == 'Fiber optic' else 0],\n",
    "    'InternetService_None': [1 if internet_service_dropdown.value == 'None' else 0],\n",
    "    'Contract_One year': [1 if contract_dropdown.value == 'One year' else 0],\n",
    "    'Contract_Two year': [1 if contract_dropdown.value == 'Two year' else 0],\n",
    "    'Tenure': [tenure_input.value],\n",
    "    'MonthlyCharges': [monthly_charges_input.value],\n",
    "    'TotalCharges': [0.0]  # Add if 'TotalCharges' was part of the model's training data\n",
    "    }\n",
    "\n",
    "    # Create input_df with correct columns\n",
    "    input_df = pd.DataFrame(input_data, columns=X_train.columns)\n",
    "\n",
    "    # Predict churn\n",
    "    churn_prediction = model.predict(input_df)[0]\n",
    "    churn_prob = model.predict_proba(input_df)[0][1]\n",
    "\n",
    "    if churn_prediction == 1:\n",
    "        output_label.value = f'Predicted Churn: Yes (Probability: {churn_prob:.2f})'\n",
    "    else:\n",
    "        output_label.value = f'Predicted Churn: No (Probability: {1 - churn_prob:.2f})'\n",
    "\n",
    "\n",
    "predict_button.on_click(predict_churn)\n",
    "\n",
    "# Display UI\n",
    "ui = widgets.VBox([age_input, gender_dropdown, internet_service_dropdown, contract_dropdown, tenure_input,\n",
    "                   monthly_charges_input, predict_button, output_label])\n",
    "display(ui)"
   ]
  },
  {
   "cell_type": "markdown",
   "metadata": {},
   "source": [
    "#### Conclusion:\n",
    "This project demonstrates a practical application of machine learning in the telecommunications industry. By predicting customer churn, telecom companies can take proactive measures such as targeted marketing campaigns or personalized retention strategies to reduce churn rates and improve customer satisfaction."
   ]
  },
  {
   "cell_type": "code",
   "execution_count": null,
   "metadata": {},
   "outputs": [],
   "source": []
  }
 ],
 "metadata": {
  "kernelspec": {
   "display_name": "Python 3",
   "language": "python",
   "name": "python3"
  },
  "language_info": {
   "codemirror_mode": {
    "name": "ipython",
    "version": 3
   },
   "file_extension": ".py",
   "mimetype": "text/x-python",
   "name": "python",
   "nbconvert_exporter": "python",
   "pygments_lexer": "ipython3",
   "version": "3.7.4"
  }
 },
 "nbformat": 4,
 "nbformat_minor": 4
}
